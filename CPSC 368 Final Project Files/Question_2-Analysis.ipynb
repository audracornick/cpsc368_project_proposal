{
 "cells": [
  {
   "cell_type": "code",
   "execution_count": 1,
   "id": "1836ee8d-598f-4460-a0a3-03e4e3f4fe8d",
   "metadata": {},
   "outputs": [],
   "source": [
    "import oracledb\n",
    "import pandas as pd\n",
    "import numpy as np\n",
    "import matplotlib.pyplot as plt\n",
    "import seaborn as sns\n",
    "from scipy.stats import chisquare"
   ]
  },
  {
   "cell_type": "markdown",
   "id": "d572316b-9b64-436a-8e33-f8520d3b35f0",
   "metadata": {},
   "source": [
    "# Reserach Question 2\n",
    "We will calculate the average wait time per body system (joint, skeletal, reproductive, etc.) to see if there is a specific system with a longer wait time. We can then compare the average wait times between the different body systems.\n",
    "\n",
    "SQL code to find the average wait times per body system.\n",
    "\n",
    "~~~\n",
    "SELECT AVG(WAITING), CATEGORY\n",
    "FROM WAITTIMES\n",
    "GROUP BY CATEGORY\n",
    "ORDER BY AVG(WAITING) ASC\n",
    "~~~"
   ]
  },
  {
   "cell_type": "code",
   "execution_count": 2,
   "id": "295d895f-1a78-4768-b191-745882ed7cf8",
   "metadata": {},
   "outputs": [],
   "source": [
    "dsn = oracledb.makedsn(\"localhost\", 1522, service_name=\"stu\")\n",
    "connection = oracledb.connect(user=\"ora_abbyg85\", password=\"a11547874\", dsn=dsn)"
   ]
  },
  {
   "cell_type": "code",
   "execution_count": 3,
   "id": "5b8acde3-b96a-4154-a5ca-e9e712286867",
   "metadata": {},
   "outputs": [
    {
     "name": "stdout",
     "output_type": "stream",
     "text": [
      "(10643,)\n"
     ]
    }
   ],
   "source": [
    "#test to make sure its connected\n",
    "cur = connection.cursor()\n",
    "for row in cur.execute(\"select count(*) from Waittimes\"):\n",
    "    print(row)\n",
    "cur.close()"
   ]
  },
  {
   "cell_type": "code",
   "execution_count": 4,
   "id": "982b991c-4f4a-4330-b1e5-713428285081",
   "metadata": {},
   "outputs": [
    {
     "name": "stderr",
     "output_type": "stream",
     "text": [
      "/tmp/ipykernel_1105/880537324.py:7: UserWarning: pandas only supports SQLAlchemy connectable (engine/connection) or database string URI or sqlite3 DBAPI2 connection. Other DBAPI2 objects are not tested. Please consider using SQLAlchemy.\n",
      "  df = pd.read_sql(sql_query, con=connection)\n"
     ]
    },
    {
     "data": {
      "text/html": [
       "<div>\n",
       "<style scoped>\n",
       "    .dataframe tbody tr th:only-of-type {\n",
       "        vertical-align: middle;\n",
       "    }\n",
       "\n",
       "    .dataframe tbody tr th {\n",
       "        vertical-align: top;\n",
       "    }\n",
       "\n",
       "    .dataframe thead th {\n",
       "        text-align: right;\n",
       "    }\n",
       "</style>\n",
       "<table border=\"1\" class=\"dataframe\">\n",
       "  <thead>\n",
       "    <tr style=\"text-align: right;\">\n",
       "      <th></th>\n",
       "      <th>AVG(WAITING)</th>\n",
       "      <th>CATEGORY</th>\n",
       "    </tr>\n",
       "  </thead>\n",
       "  <tbody>\n",
       "    <tr>\n",
       "      <th>0</th>\n",
       "      <td>31.900855</td>\n",
       "      <td>Endocrine System</td>\n",
       "    </tr>\n",
       "    <tr>\n",
       "      <th>1</th>\n",
       "      <td>33.939086</td>\n",
       "      <td>Respiratory System</td>\n",
       "    </tr>\n",
       "    <tr>\n",
       "      <th>2</th>\n",
       "      <td>37.838428</td>\n",
       "      <td>Nervous System</td>\n",
       "    </tr>\n",
       "    <tr>\n",
       "      <th>3</th>\n",
       "      <td>99.494357</td>\n",
       "      <td>General Procedures (Multiple Systems/Non-Speci...</td>\n",
       "    </tr>\n",
       "    <tr>\n",
       "      <th>4</th>\n",
       "      <td>117.959569</td>\n",
       "      <td>Cardiovascular System</td>\n",
       "    </tr>\n",
       "    <tr>\n",
       "      <th>5</th>\n",
       "      <td>122.341677</td>\n",
       "      <td>Male Reproductive System</td>\n",
       "    </tr>\n",
       "    <tr>\n",
       "      <th>6</th>\n",
       "      <td>155.165375</td>\n",
       "      <td>Urinary System</td>\n",
       "    </tr>\n",
       "    <tr>\n",
       "      <th>7</th>\n",
       "      <td>239.200883</td>\n",
       "      <td>Skin and Soft Tissue System</td>\n",
       "    </tr>\n",
       "    <tr>\n",
       "      <th>8</th>\n",
       "      <td>306.164009</td>\n",
       "      <td>Female Reproductive System</td>\n",
       "    </tr>\n",
       "    <tr>\n",
       "      <th>9</th>\n",
       "      <td>414.019744</td>\n",
       "      <td>Digestive System</td>\n",
       "    </tr>\n",
       "    <tr>\n",
       "      <th>10</th>\n",
       "      <td>438.728620</td>\n",
       "      <td>Ear, Nose, and Throat System</td>\n",
       "    </tr>\n",
       "    <tr>\n",
       "      <th>11</th>\n",
       "      <td>1071.132867</td>\n",
       "      <td>Musculoskeletal System</td>\n",
       "    </tr>\n",
       "    <tr>\n",
       "      <th>12</th>\n",
       "      <td>1334.801205</td>\n",
       "      <td>Eye and Vision System</td>\n",
       "    </tr>\n",
       "    <tr>\n",
       "      <th>13</th>\n",
       "      <td>3703.897740</td>\n",
       "      <td>All Procedures</td>\n",
       "    </tr>\n",
       "  </tbody>\n",
       "</table>\n",
       "</div>"
      ],
      "text/plain": [
       "    AVG(WAITING)                                           CATEGORY\n",
       "0      31.900855                                   Endocrine System\n",
       "1      33.939086                                 Respiratory System\n",
       "2      37.838428                                     Nervous System\n",
       "3      99.494357  General Procedures (Multiple Systems/Non-Speci...\n",
       "4     117.959569                              Cardiovascular System\n",
       "5     122.341677                           Male Reproductive System\n",
       "6     155.165375                                     Urinary System\n",
       "7     239.200883                        Skin and Soft Tissue System\n",
       "8     306.164009                         Female Reproductive System\n",
       "9     414.019744                                   Digestive System\n",
       "10    438.728620                       Ear, Nose, and Throat System\n",
       "11   1071.132867                             Musculoskeletal System\n",
       "12   1334.801205                              Eye and Vision System\n",
       "13   3703.897740                                     All Procedures"
      ]
     },
     "metadata": {},
     "output_type": "display_data"
    }
   ],
   "source": [
    "sql_query = \"\"\"\n",
    "SELECT AVG(WAITING), CATEGORY\n",
    "FROM WAITTIMES\n",
    "GROUP BY CATEGORY\n",
    "ORDER BY AVG(WAITING) ASC\n",
    "\"\"\"\n",
    "df = pd.read_sql(sql_query, con=connection)\n",
    "display(df)\n"
   ]
  },
  {
   "cell_type": "code",
   "execution_count": 5,
   "id": "9af82d33-048b-4b46-bd7b-a910c87f7d30",
   "metadata": {},
   "outputs": [
    {
     "name": "stdout",
     "output_type": "stream",
     "text": [
      "AVG(WAITING)\n",
      "(30.598, 357.626]       9\n",
      "(357.626, 683.351]      2\n",
      "(683.351, 1009.076]     0\n",
      "(1009.076, 1334.801]    2\n",
      "Name: count, dtype: int64\n"
     ]
    },
    {
     "name": "stderr",
     "output_type": "stream",
     "text": [
      "/tmp/ipykernel_1105/3237721824.py:8: FutureWarning: pandas.value_counts is deprecated and will be removed in a future version. Use pd.Series(obj).value_counts() instead.\n",
      "  bin_counts = pd.value_counts(bins).sort_index()\n"
     ]
    }
   ],
   "source": [
    "# NOTE: I removed the 'All Procedures' category since this accumlatates all of the\n",
    "# waiting procedures regardless of body system. \n",
    "\n",
    "# bin our data for a chi-squared test\n",
    "avg_wait = df['AVG(WAITING)'].iloc[:-1]\n",
    "\n",
    "num_bins = 4\n",
    "\n",
    "# Create equal-width bins\n",
    "bins = pd.cut(avg_wait, bins=num_bins)\n",
    "bin_counts = pd.value_counts(bins).sort_index()\n",
    "\n",
    "print(bin_counts)\n",
    "\n",
    "counts = [9,2,0,2] # based on results above"
   ]
  },
  {
   "cell_type": "code",
   "execution_count": 6,
   "id": "36165d90-294a-416a-9770-3968a1364152",
   "metadata": {},
   "outputs": [
    {
     "name": "stdout",
     "output_type": "stream",
     "text": [
      "Chi-squared = 14.385\n",
      "p-value = 0.0024\n",
      "Significant variation\n"
     ]
    }
   ],
   "source": [
    "# chi-squared test\n",
    "\n",
    "# assuming equal distribution\n",
    "expected = [sum(counts) / len(counts)] * len(counts)\n",
    "\n",
    "chi2, p = chisquare(f_obs=counts, f_exp=expected)\n",
    "\n",
    "print(f\"Chi-squared = {chi2:.3f}\")\n",
    "print(f\"p-value = {p:.4f}\")\n",
    "\n",
    "if p < 0.05:\n",
    "    print(\"Significant variation\")\n",
    "else:\n",
    "    print(\"No significant variation\")\n"
   ]
  },
  {
   "cell_type": "code",
   "execution_count": 7,
   "id": "06a82f00-e7b6-4aae-be8f-99008bfc1ecf",
   "metadata": {},
   "outputs": [
    {
     "data": {
      "image/png": "[encoded data removed]",
      "text/plain": [
       "<Figure size 640x480 with 1 Axes>"
      ]
     },
     "metadata": {},
     "output_type": "display_data"
    }
   ],
   "source": [
    "# all procedures average waiting is the average amount of\n",
    "# waiting procedures per health authority summing all categories\n",
    "\n",
    "bins = ['Bin1', 'Bin2', 'Bin3', 'Bin4']\n",
    "\n",
    "fig, ax = plt.subplots()\n",
    "width = 0.3  # Bar width\n",
    "\n",
    "x = np.arange(len(bins))\n",
    "\n",
    "ax.bar(x - width / 2, counts, width, label='Observed', color='blue')\n",
    "ax.bar(x + width / 2, expected, width, label='Expected', color='red')\n",
    "\n",
    "ax.set_ylabel('Counts')\n",
    "ax.set_title('Chi-squared Test: Observed vs Expected Counts')\n",
    "ax.set_xticks(x)\n",
    "ax.set_xticklabels(bins)\n",
    "ax.legend()\n",
    "\n",
    "plt.show()\n"
   ]
  }
 ],
 "metadata": {
  "kernelspec": {
   "display_name": "Python 3 (ipykernel)",
   "language": "python",
   "name": "python3"
  },
  "language_info": {
   "codemirror_mode": {
    "name": "ipython",
    "version": 3
   },
   "file_extension": ".py",
   "mimetype": "text/x-python",
   "name": "python",
   "nbconvert_exporter": "python",
   "pygments_lexer": "ipython3",
   "version": "3.12.8"
  }
 },
 "nbformat": 4,
 "nbformat_minor": 5
}
